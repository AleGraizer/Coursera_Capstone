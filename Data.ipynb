{
 "cells": [
  {
   "cell_type": "markdown",
   "metadata": {},
   "source": [
    "# Data #"
   ]
  },
  {
   "cell_type": "markdown",
   "metadata": {},
   "source": [
    "To choose the right database, I reviewed several sources available on the course website. The database titled \"Accident risk prediction based on heterogeneous sparse data new dataset and insights\" did not seem to me to be suitable for the analysis because the target variable of this source (accident severity) is based on the impact that the accident has on the traffic, and it is not the objective of this project. The second source analyzed was the database \"High-resolution road vehicle collision prediction for the city of Montreal\", which only showed data from Montreal between 1999 and 2017, which I do not consider representative for my project.\n",
    "\n",
    "Finally I decided to use the source provided by the course, the file called \"Data-Collisions\". This source is more updated since it covers the years 2004-2020 and contains variables that I consider significant to better explain the severity of the accidents. This way, with this data source I will be able to build a robust model that predicts the severity of future accidents."
   ]
  }
 ],
 "metadata": {
  "kernelspec": {
   "display_name": "Python",
   "language": "python",
   "name": "conda-env-python-py"
  },
  "language_info": {
   "codemirror_mode": {
    "name": "ipython",
    "version": 3
   },
   "file_extension": ".py",
   "mimetype": "text/x-python",
   "name": "python",
   "nbconvert_exporter": "python",
   "pygments_lexer": "ipython3",
   "version": "3.6.11"
  }
 },
 "nbformat": 4,
 "nbformat_minor": 4
}
