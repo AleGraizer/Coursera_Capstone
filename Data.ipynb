{
 "cells": [
  {
   "cell_type": "markdown",
   "metadata": {},
   "source": [
    "# Data #"
   ]
  },
  {
   "cell_type": "markdown",
   "metadata": {},
   "source": [
    "To choose the right database, I reviewed several sources available on the course website. The database titled \"Accident risk prediction based on heterogeneous sparse data new dataset and insights\" did not seem to me to be suitable for the analysis because the target variable of this source (accident severity) is based on the impact that the accident has on the traffic, and it is not the objective of this project. The second source analyzed was the database \"High-resolution road vehicle collision prediction for the city of Montreal\", which only showed data from Montreal between 1999 and 2017, which I do not consider representative for my project.\n",
    "\n",
    "I studied the database provided by the UK police department (https://data.gov.uk/) and discarded it because it only takes into account accidents in which people are injured or killed and does not include accidents of lesser severity in which there is only material damage.\n",
    "\n",
    "Finally, I decided to use the source provided by the course, the file called \"Data-Collisions\" (https://s3.us.cloud-object-storage.appdomain.cloud/cf-courses-data/CognitiveClass/DP0701EN/version-2/Data-Collisions.csv). Together with the dataset that I chose I have a metadata file explaining the whole variables included. This source is more updated since it covers the years 2004-2020 and contains variables that I consider significant to better explain the severity of the accidents. \n",
    "\n",
    "This chosen database contains 38 variables and 194,673 recorded accidents. Of these variables, I consider that the most relevant would be:\n",
    "- \"Address type\" which allows me to see the type of road in which the accident occurred\n",
    "- \"Collision type\", \"Person Count\" to see the type of accident and the people involved\n",
    "- Weather\", \"Road Condition\", \"Light Condition\" which give circumstantial information of the accident and the road conditions at that time\n",
    "- \"Speeding\" which gives information on whether the speed of the vehicle influenced the severity of the accident\n",
    "\n",
    "These are the variables that can provide more information to explain the causes of an accident and predict its severity. As an example, if visibility conditions are poor or the vehicle is traveling at high speed, the accident is more likely to be severe.\n",
    "\n",
    "In addition to this, the database has my objective variable \"Severity Code\" that gives information about the severity of the accident and that I will use to check the validity of the model. In this particular case, the variable can take the values 1 (Property Damage) or 2 (Injury). This variable was duplicated in the database, so it has been necessary to remove the repeated variable\n"
   ]
  }
 ],
 "metadata": {
  "kernelspec": {
   "display_name": "Python",
   "language": "python",
   "name": "conda-env-python-py"
  },
  "language_info": {
   "codemirror_mode": {
    "name": "ipython",
    "version": 3
   },
   "file_extension": ".py",
   "mimetype": "text/x-python",
   "name": "python",
   "nbconvert_exporter": "python",
   "pygments_lexer": "ipython3",
   "version": "3.6.11"
  }
 },
 "nbformat": 4,
 "nbformat_minor": 4
}
