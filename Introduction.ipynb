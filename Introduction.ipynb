{
 "cells": [
  {
   "cell_type": "markdown",
   "metadata": {},
   "source": [
    "# Introduction/Business Problem #"
   ]
  },
  {
   "cell_type": "markdown",
   "metadata": {},
   "source": [
    "Nowadays, and for over 100 years, motor vehicles are one of the most used transport means. They are used for going to and from work, taking the children to school, traveling, occasional outings, shopping, or just hanging out with the family. Given the high use of cars in society, many times they generate traffic jams and problems. This is accentuated because, in addition to private cars, one must take into account the other vehicles that circulate on the same road network: motorcycles, bicycles, buses, electric scooters, streetcars and even pedestrians. \n",
    "\n",
    "One of the important factors indicating the development of a city is the state of its road network. That a city has a transit system in good condition, safe and well connected translates into a better quality of life for its inhabitants. Therefore governments invest a large part of their budget in maintaining and improving the road network. \n",
    "\n",
    "One of the main consequences of poor traffic management is an increase in the number of accidents that occur. This increase becomes a problem, since it not only translates into a health issue for those injured, but also generates an expense for society in terms of both money and human resources.\n",
    "\n",
    "Because of this, it is crucial to be able to determine the main causes of accidents in order to minimize their severity. There are many sectors interested in creating predictive models that, considering factors such as weather, road conditions, visibility, or type of vehicle, can determine the severity of accidents. Among the interested groups, we can find the government, police departments, insurance companies or road authorities, among others. \n",
    "\n",
    "These predictive models with their own \"Machine Learning\" techniques are useful for the government since they could better understand why accidents happen. In this way they can act accordingly and allocate resources for example for better road construction or to pass laws establishing the mandatory use of safety devices such as seat belts. \n",
    "\n",
    "These models are also attractive to the vehicle manufacturers themselves since having the information about what factors contribute negatively to the severity of the accidents, they can make modifications to counteract it, such as installing airbags.\n",
    "\n",
    "Road safety authorities may be a possible audience for this type of model. With the insights that can be obtained from these analyses, it is possible to determine where to invest in improving the condition of roads, increasing signage, adding traffic lights, etc.\n",
    "\n",
    "Another example of who the model could be presented to is car insurance companies. Taking into account the implications of each factor in the severity of accidents, they can improve their business by increasing the premiums paid by some clients, decreasing the deductibles or even not insuring some clients who do not meet minimum requirements.\n",
    "\n",
    "The aim of this project is to build a model capable of predicting the severity of future accidents in order to reduce future problems originated by this. It will be based on current real data extracted from a database which collects information between the years 2004 and 2020.\n"
   ]
  }
 ],
 "metadata": {
  "kernelspec": {
   "display_name": "Python",
   "language": "python",
   "name": "conda-env-python-py"
  },
  "language_info": {
   "codemirror_mode": {
    "name": "ipython",
    "version": 3
   },
   "file_extension": ".py",
   "mimetype": "text/x-python",
   "name": "python",
   "nbconvert_exporter": "python",
   "pygments_lexer": "ipython3",
   "version": "3.6.11"
  }
 },
 "nbformat": 4,
 "nbformat_minor": 4
}
