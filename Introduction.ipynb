{
 "cells": [
  {
   "cell_type": "markdown",
   "metadata": {},
   "source": [
    "# Introduction/Business Problem #"
   ]
  },
  {
   "cell_type": "markdown",
   "metadata": {},
   "source": [
    "Nowadays, and for over 100 years, motor vehicles are one of the most used transport means. As a consequence, the probability of suffering an accident is very high compared to the rest. Over time, devices and systems have been invented to increase passenger safety and minimize the severity of accidents. Additionally, each country has a government department in charge of regulating traffic and standards with the objective of reducing possible accidents.\n",
    "\n",
    "The objective of this project is to build a model capable of predicting the severity of future accidents. It will be based on current real data extracted from a database that collects information between the years 2004 and 2020."
   ]
  }
 ],
 "metadata": {
  "kernelspec": {
   "display_name": "Python",
   "language": "python",
   "name": "conda-env-python-py"
  },
  "language_info": {
   "codemirror_mode": {
    "name": "ipython",
    "version": 3
   },
   "file_extension": ".py",
   "mimetype": "text/x-python",
   "name": "python",
   "nbconvert_exporter": "python",
   "pygments_lexer": "ipython3",
   "version": "3.6.11"
  }
 },
 "nbformat": 4,
 "nbformat_minor": 4
}
